{
  "nbformat": 4,
  "nbformat_minor": 0,
  "metadata": {
    "colab": {
      "provenance": [],
      "gpuType": "T4",
      "authorship_tag": "ABX9TyMTCtIph5gjOiw1ISbGbNtt",
      "include_colab_link": true
    },
    "kernelspec": {
      "name": "python3",
      "display_name": "Python 3"
    },
    "language_info": {
      "name": "python"
    },
    "accelerator": "GPU"
  },
  "cells": [
    {
      "cell_type": "markdown",
      "metadata": {
        "id": "view-in-github",
        "colab_type": "text"
      },
      "source": [
        "<a href=\"https://colab.research.google.com/github/rohitshekar/cancer/blob/main/cervialcancer.ipynb\" target=\"_parent\"><img src=\"https://colab.research.google.com/assets/colab-badge.svg\" alt=\"Open In Colab\"/></a>"
      ]
    },
    {
      "cell_type": "code",
      "execution_count": 1,
      "metadata": {
        "colab": {
          "base_uri": "https://localhost:8080/"
        },
        "id": "ZQorRLrygRFw",
        "outputId": "8dc46bda-ead2-4d3c-9ec7-f2e81ff06102"
      },
      "outputs": [
        {
          "output_type": "stream",
          "name": "stdout",
          "text": [
            "Mounted at /content/drive\n"
          ]
        }
      ],
      "source": [
        "from google.colab import drive\n",
        "drive.mount('/content/drive')"
      ]
    },
    {
      "cell_type": "code",
      "source": [
        "import os\n",
        "os.environ['KAGGLE_CONFIG_DIR'] = \"/content/drive/MyDrive/Kaggle/Kaggle\""
      ],
      "metadata": {
        "id": "kS7bLWmpgYyM"
      },
      "execution_count": 12,
      "outputs": []
    },
    {
      "cell_type": "code",
      "source": [
        "%mkdir ~/.kaggle"
      ],
      "metadata": {
        "colab": {
          "base_uri": "https://localhost:8080/"
        },
        "id": "etZQiZVAga5T",
        "outputId": "a752d444-82d1-4210-868a-7f5520c27076"
      },
      "execution_count": 13,
      "outputs": [
        {
          "output_type": "stream",
          "name": "stdout",
          "text": [
            "mkdir: cannot create directory ‘/root/.kaggle’: File exists\n"
          ]
        }
      ]
    },
    {
      "cell_type": "code",
      "source": [
        "!cp /content/drive/MyDrive/Kaggle/Kaggle/kaggle.json ~/.kaggle/kaggle.json"
      ],
      "metadata": {
        "id": "xcJAKviwggCw"
      },
      "execution_count": 15,
      "outputs": []
    },
    {
      "cell_type": "code",
      "source": [
        "! chmod 600 ~/.kaggle/kaggle.json"
      ],
      "metadata": {
        "id": "PXuTzQGagh-N"
      },
      "execution_count": 16,
      "outputs": []
    },
    {
      "cell_type": "code",
      "source": [
        "%cd /content/"
      ],
      "metadata": {
        "colab": {
          "base_uri": "https://localhost:8080/"
        },
        "id": "bbQwn0BOgkSH",
        "outputId": "cad55028-c235-40da-8eeb-91d58333b1c6"
      },
      "execution_count": 17,
      "outputs": [
        {
          "output_type": "stream",
          "name": "stdout",
          "text": [
            "/content\n"
          ]
        }
      ]
    },
    {
      "cell_type": "code",
      "source": [
        "%mkdir images\n",
        "%cd images"
      ],
      "metadata": {
        "colab": {
          "base_uri": "https://localhost:8080/"
        },
        "id": "ou_c4GaogmkF",
        "outputId": "ff56702d-4684-4d71-88ae-0f63801b9c72"
      },
      "execution_count": 18,
      "outputs": [
        {
          "output_type": "stream",
          "name": "stdout",
          "text": [
            "mkdir: cannot create directory ‘images’: File exists\n",
            "/content/images\n"
          ]
        }
      ]
    },
    {
      "cell_type": "code",
      "source": [
        "!kaggle datasets download -d obulisainaren/multi-cancer"
      ],
      "metadata": {
        "colab": {
          "base_uri": "https://localhost:8080/"
        },
        "id": "jeASdW-FgqyB",
        "outputId": "c0af9eec-a76a-4324-cad4-4e7ad2ce857c"
      },
      "execution_count": 19,
      "outputs": [
        {
          "output_type": "stream",
          "name": "stdout",
          "text": [
            "Downloading multi-cancer.zip to /content/images\n",
            "100% 8.61G/8.62G [07:10<00:00, 22.9MB/s]\n",
            "100% 8.62G/8.62G [07:10<00:00, 21.5MB/s]\n"
          ]
        }
      ]
    },
    {
      "cell_type": "code",
      "source": [
        "!unzip multi-cancer.zip"
      ],
      "metadata": {
        "id": "QwEtcJeQgsFZ"
      },
      "execution_count": null,
      "outputs": []
    },
    {
      "cell_type": "code",
      "source": [
        "import tensorflow as tf\n",
        "from keras.preprocessing.image import ImageDataGenerator"
      ],
      "metadata": {
        "id": "-ObZLqcsgwpC"
      },
      "execution_count": 21,
      "outputs": []
    },
    {
      "cell_type": "code",
      "source": [
        "train_datagen = ImageDataGenerator(rescale = 1./255,\n",
        "                                   shear_range = 0.2,\n",
        "                                   zoom_range = 0.2,\n",
        "                                   horizontal_flip = True,validation_split=0.2)\n",
        "test_datagen = ImageDataGenerator(rescale = 1./255,validation_split=0.2)\n"
      ],
      "metadata": {
        "id": "Zn3Q_ClrgxML"
      },
      "execution_count": 22,
      "outputs": []
    },
    {
      "cell_type": "code",
      "source": [
        "train_set = train_datagen.flow_from_directory('/content/images/Multi Cancer/Cervical Cancer',\n",
        "                                                 target_size = (128, 128),\n",
        "                                                 batch_size = 32,seed=42,\n",
        "                                                 class_mode = 'categorical',subset='training')\n",
        "test_set = test_datagen.flow_from_directory('/content/images/Multi Cancer/Cervical Cancer',\n",
        "                                                 target_size = (128, 128),\n",
        "                                                 batch_size = 32,\n",
        "                                                 class_mode = 'categorical',subset='validation',seed=42)"
      ],
      "metadata": {
        "colab": {
          "base_uri": "https://localhost:8080/"
        },
        "id": "Dnw6xr_Qg5dH",
        "outputId": "e09f3672-2095-44e8-d24a-ebbabe145688"
      },
      "execution_count": 23,
      "outputs": [
        {
          "output_type": "stream",
          "name": "stdout",
          "text": [
            "Found 20000 images belonging to 5 classes.\n",
            "Found 5000 images belonging to 5 classes.\n"
          ]
        }
      ]
    },
    {
      "cell_type": "code",
      "source": [
        "from tensorflow.keras.applications.vgg16 import VGG16\n",
        "from tensorflow.keras.layers import Dense, Conv2D, Dropout, Flatten, MaxPooling2D, Input\n",
        "from tensorflow.keras.models import Model\n",
        "from tensorflow.keras import regularizers"
      ],
      "metadata": {
        "id": "CPehqaQ9g6J4"
      },
      "execution_count": 27,
      "outputs": []
    },
    {
      "cell_type": "code",
      "source": [
        "inputs = Input((128,128,3))\n",
        "# convolutional layers\n",
        "conv_1 = Conv2D(32, kernel_size=(2, 2), activation='relu',kernel_regularizer=regularizers.l2(l=0.01),kernel_initializer='he_normal') (inputs)\n",
        "maxp_1 = MaxPooling2D(pool_size=(2, 2)) (conv_1)\n",
        "conv_2 = Conv2D(64, kernel_size=(2, 2), activation='relu',kernel_regularizer=regularizers.l2(l=0.01),kernel_initializer='he_normal') (maxp_1)\n",
        "maxp_2 = MaxPooling2D(pool_size=(2, 2)) (conv_2)\n",
        "conv_3 = Conv2D(128, kernel_size=(2, 2), activation='relu',kernel_regularizer=regularizers.l2(l=0.01),kernel_initializer='he_normal') (maxp_2)\n",
        "maxp_3 = MaxPooling2D(pool_size=(2, 2)) (conv_3)\n",
        "conv_4 = Conv2D(256, kernel_size=(2, 2), activation='relu',kernel_regularizer=regularizers.l2(l=0.01),kernel_initializer='he_normal') (maxp_3)\n",
        "maxp_4 = MaxPooling2D(pool_size=(2, 2)) (conv_4)\n",
        "conv_5 = Conv2D(512, kernel_size=(2, 2), activation='relu',kernel_regularizer=regularizers.l2(l=0.01),kernel_initializer='he_normal') (maxp_4)\n",
        "maxp_5 = MaxPooling2D(pool_size=(2, 2)) (conv_5)\n",
        "conv_6 = Conv2D(512, kernel_size=(2, 2), activation='relu',kernel_regularizer=regularizers.l2(l=0.01),kernel_initializer='he_normal') (maxp_5)\n",
        "maxp_6 = MaxPooling2D(pool_size=(2, 2)) (conv_6)\n",
        "\n",
        "\n",
        "flatten = Flatten() (maxp_6)\n",
        "\n",
        "# fully connected layers\n",
        "dense_1 = Dense(256, activation='relu') (flatten)\n",
        "\n",
        "\n",
        "\n",
        "dropout_1 = Dropout(0.3) (dense_1)\n",
        "\n",
        "\n",
        "\n",
        "output_1 = Dense(5, activation='softmax') (dropout_1)\n",
        "\n",
        "\n",
        "\n",
        "model = Model(inputs=[inputs], outputs=[output_1])\n",
        "\n",
        "model.compile(loss= ['categorical_crossentropy'], optimizer='adam', metrics=['accuracy'])"
      ],
      "metadata": {
        "id": "b18Q2iOEg_rA"
      },
      "execution_count": 28,
      "outputs": []
    },
    {
      "cell_type": "code",
      "source": [
        "model.fit(x = train_set, validation_data = test_set, epochs =12)"
      ],
      "metadata": {
        "colab": {
          "base_uri": "https://localhost:8080/"
        },
        "id": "S8pV5q6RhCtB",
        "outputId": "41d6b27f-8cb0-49df-a950-6d44e859d2c8"
      },
      "execution_count": 29,
      "outputs": [
        {
          "output_type": "stream",
          "name": "stdout",
          "text": [
            "Epoch 1/12\n",
            "625/625 [==============================] - 197s 310ms/step - loss: 4.6064 - accuracy: 0.6603 - val_loss: 1.6846 - val_accuracy: 0.7288\n",
            "Epoch 2/12\n",
            "625/625 [==============================] - 187s 298ms/step - loss: 1.4492 - accuracy: 0.7748 - val_loss: 1.3977 - val_accuracy: 0.7430\n",
            "Epoch 3/12\n",
            "625/625 [==============================] - 182s 292ms/step - loss: 1.1582 - accuracy: 0.8225 - val_loss: 1.1183 - val_accuracy: 0.8108\n",
            "Epoch 4/12\n",
            "625/625 [==============================] - 182s 291ms/step - loss: 1.0017 - accuracy: 0.8450 - val_loss: 0.8719 - val_accuracy: 0.8740\n",
            "Epoch 5/12\n",
            "625/625 [==============================] - 181s 290ms/step - loss: 0.9117 - accuracy: 0.8561 - val_loss: 0.9293 - val_accuracy: 0.8314\n",
            "Epoch 6/12\n",
            "625/625 [==============================] - 202s 323ms/step - loss: 0.8242 - accuracy: 0.8708 - val_loss: 0.7879 - val_accuracy: 0.8634\n",
            "Epoch 7/12\n",
            "625/625 [==============================] - 182s 292ms/step - loss: 0.7633 - accuracy: 0.8787 - val_loss: 0.6698 - val_accuracy: 0.9088\n",
            "Epoch 8/12\n",
            "625/625 [==============================] - 182s 291ms/step - loss: 0.7207 - accuracy: 0.8822 - val_loss: 0.6289 - val_accuracy: 0.9102\n",
            "Epoch 9/12\n",
            "625/625 [==============================] - 183s 294ms/step - loss: 0.6623 - accuracy: 0.8953 - val_loss: 0.6003 - val_accuracy: 0.9126\n",
            "Epoch 10/12\n",
            "625/625 [==============================] - 184s 294ms/step - loss: 0.6397 - accuracy: 0.8956 - val_loss: 0.6067 - val_accuracy: 0.9080\n",
            "Epoch 11/12\n",
            "625/625 [==============================] - 183s 292ms/step - loss: 0.5984 - accuracy: 0.9036 - val_loss: 0.5585 - val_accuracy: 0.9090\n",
            "Epoch 12/12\n",
            "625/625 [==============================] - 183s 293ms/step - loss: 0.5681 - accuracy: 0.9100 - val_loss: 0.5269 - val_accuracy: 0.9238\n"
          ]
        },
        {
          "output_type": "execute_result",
          "data": {
            "text/plain": [
              "<keras.callbacks.History at 0x7f236108f040>"
            ]
          },
          "metadata": {},
          "execution_count": 29
        }
      ]
    },
    {
      "cell_type": "code",
      "source": [
        "import numpy as np\n",
        "from keras.preprocessing import image\n",
        "results=[]\n",
        "test_image = tf.keras.utils.load_img('/content/images/Multi Cancer/Cervical Cancer/cervix_sfi/cervix_sfi_0009.jpg', target_size = (128,128))\n",
        "test_image = tf.keras.utils.img_to_array(test_image)\n",
        "test_image=test_image/255.0\n",
        "test_image = np.expand_dims(test_image, axis = 0)\n",
        "result = model.predict(test_image)\n",
        "print(result)\n",
        "print(max(result[0]))\n"
      ],
      "metadata": {
        "colab": {
          "base_uri": "https://localhost:8080/"
        },
        "id": "kZEErOm_lUaQ",
        "outputId": "51e2aa67-5ad6-4fc1-b5ae-a6a709ea4c9f"
      },
      "execution_count": 93,
      "outputs": [
        {
          "output_type": "stream",
          "name": "stdout",
          "text": [
            "1/1 [==============================] - 0s 19ms/step\n",
            "[[6.0186121e-05 3.8316585e-02 6.0744542e-03 4.9335253e-04 9.5505542e-01]]\n",
            "0.9550554\n"
          ]
        }
      ]
    },
    {
      "cell_type": "code",
      "source": [
        "model.save('/content/cervialcancer1.h5',save_format='h5')"
      ],
      "metadata": {
        "id": "znSmmjJBlZVX"
      },
      "execution_count": 94,
      "outputs": []
    },
    {
      "cell_type": "code",
      "source": [
        "res=train_set.class_indices"
      ],
      "metadata": {
        "colab": {
          "base_uri": "https://localhost:8080/"
        },
        "id": "cRgHapEfugbG",
        "outputId": "f160a239-f6ff-4505-c0fc-e82601279a7c"
      },
      "execution_count": 35,
      "outputs": [
        {
          "output_type": "execute_result",
          "data": {
            "text/plain": [
              "{'cervix_dyk': 0,\n",
              " 'cervix_koc': 1,\n",
              " 'cervix_mep': 2,\n",
              " 'cervix_pab': 3,\n",
              " 'cervix_sfi': 4}"
            ]
          },
          "metadata": {},
          "execution_count": 35
        }
      ]
    },
    {
      "cell_type": "code",
      "source": [],
      "metadata": {
        "id": "ss2Jttz_ukzl"
      },
      "execution_count": null,
      "outputs": []
    }
  ]
}