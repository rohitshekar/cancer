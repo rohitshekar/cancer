{
  "nbformat": 4,
  "nbformat_minor": 0,
  "metadata": {
    "colab": {
      "provenance": [],
      "gpuType": "T4",
      "authorship_tag": "ABX9TyN0pImMReuSbkTeMyvMogG/",
      "include_colab_link": true
    },
    "kernelspec": {
      "name": "python3",
      "display_name": "Python 3"
    },
    "language_info": {
      "name": "python"
    },
    "accelerator": "GPU"
  },
  "cells": [
    {
      "cell_type": "markdown",
      "metadata": {
        "id": "view-in-github",
        "colab_type": "text"
      },
      "source": [
        "<a href=\"https://colab.research.google.com/github/rohitshekar/cancer/blob/main/cancer.ipynb\" target=\"_parent\"><img src=\"https://colab.research.google.com/assets/colab-badge.svg\" alt=\"Open In Colab\"/></a>"
      ]
    },
    {
      "cell_type": "code",
      "execution_count": null,
      "metadata": {
        "colab": {
          "base_uri": "https://localhost:8080/"
        },
        "id": "DhTRxQg0NHay",
        "outputId": "b17e45d1-6261-49c5-bb08-f2638e863a81"
      },
      "outputs": [
        {
          "output_type": "stream",
          "name": "stdout",
          "text": [
            "Mounted at /content/drive\n"
          ]
        }
      ],
      "source": [
        "from google.colab import drive\n",
        "drive.mount('/content/drive')"
      ]
    },
    {
      "cell_type": "code",
      "source": [
        "import os\n",
        "os.environ['KAGGLE_CONFIG_DIR'] = \"/content/drive/MyDrive/Kaggle\""
      ],
      "metadata": {
        "id": "EORcbhWYNIyx"
      },
      "execution_count": null,
      "outputs": []
    },
    {
      "cell_type": "code",
      "source": [
        "%mkdir ~/.kaggle"
      ],
      "metadata": {
        "id": "8Ig9pyGlNJBE"
      },
      "execution_count": null,
      "outputs": []
    },
    {
      "cell_type": "code",
      "source": [
        "!cp /content/drive/MyDrive/kaggle/kaggle.json ~/.kaggle/kaggle.json"
      ],
      "metadata": {
        "id": "8gAHGdT9NJHu"
      },
      "execution_count": null,
      "outputs": []
    },
    {
      "cell_type": "code",
      "source": [
        "! chmod 600 ~/.kaggle/kaggle.json"
      ],
      "metadata": {
        "id": "ZwhAIvuhNJLA"
      },
      "execution_count": null,
      "outputs": []
    },
    {
      "cell_type": "code",
      "source": [
        "%cd /content/"
      ],
      "metadata": {
        "colab": {
          "base_uri": "https://localhost:8080/"
        },
        "id": "2WSO1zNSNSCN",
        "outputId": "f5ca7180-225e-4eec-d280-c4de2336a463"
      },
      "execution_count": null,
      "outputs": [
        {
          "output_type": "stream",
          "name": "stdout",
          "text": [
            "/content\n"
          ]
        }
      ]
    },
    {
      "cell_type": "code",
      "source": [
        "%mkdir images\n",
        "%cd images"
      ],
      "metadata": {
        "colab": {
          "base_uri": "https://localhost:8080/"
        },
        "id": "B4w06xRhNSIo",
        "outputId": "41a2459f-a353-4b6a-d922-2bc202784c61"
      },
      "execution_count": null,
      "outputs": [
        {
          "output_type": "stream",
          "name": "stdout",
          "text": [
            "/content/images\n"
          ]
        }
      ]
    },
    {
      "cell_type": "code",
      "source": [
        "!kaggle datasets download -d obulisainaren/multi-cancer"
      ],
      "metadata": {
        "colab": {
          "base_uri": "https://localhost:8080/"
        },
        "id": "Ajg9dhMsNrWw",
        "outputId": "7d0bc4e8-fdf4-4d20-9ca1-a4e1ebb4d05a"
      },
      "execution_count": null,
      "outputs": [
        {
          "output_type": "stream",
          "name": "stdout",
          "text": [
            "Downloading multi-cancer.zip to /content/images\n",
            "100% 8.62G/8.62G [01:47<00:00, 130MB/s]\n",
            "100% 8.62G/8.62G [01:47<00:00, 86.3MB/s]\n"
          ]
        }
      ]
    },
    {
      "cell_type": "code",
      "source": [
        "!unzip multi-cancer.zip"
      ],
      "metadata": {
        "id": "li5dFsniOd_j"
      },
      "execution_count": null,
      "outputs": []
    },
    {
      "cell_type": "code",
      "source": [
        "import tensorflow as tf\n",
        "from keras.preprocessing.image import ImageDataGenerator"
      ],
      "metadata": {
        "id": "ATwXApG9PH4R"
      },
      "execution_count": null,
      "outputs": []
    },
    {
      "cell_type": "code",
      "source": [
        "train_datagen = ImageDataGenerator(rescale = 1./255,\n",
        "                                   shear_range = 0.2,\n",
        "                                   zoom_range = 0.2,\n",
        "                                   horizontal_flip = True,validation_split=0.2)\n",
        "test_datagen = ImageDataGenerator(rescale = 1./255,validation_split=0.2)\n"
      ],
      "metadata": {
        "id": "Qwp8Wx8VPTBC"
      },
      "execution_count": null,
      "outputs": []
    },
    {
      "cell_type": "code",
      "source": [
        "train_set = train_datagen.flow_from_directory('/content/images/Multi Cancer/Breast Cancer',\n",
        "                                                 target_size = (128, 128),\n",
        "                                                 batch_size = 32,\n",
        "                                                 class_mode = 'binary',subset='training',seed=42)\n",
        "test_set = test_datagen.flow_from_directory('/content/images/Multi Cancer/Breast Cancer',\n",
        "                                                 target_size = (128, 128),\n",
        "                                                 batch_size = 32,\n",
        "                                                 class_mode = 'binary',subset='validation',seed=42)"
      ],
      "metadata": {
        "colab": {
          "base_uri": "https://localhost:8080/"
        },
        "id": "V71pjce5PnZT",
        "outputId": "fe295b34-56d2-406f-e46f-8760af58ee8d"
      },
      "execution_count": null,
      "outputs": [
        {
          "output_type": "stream",
          "name": "stdout",
          "text": [
            "Found 8000 images belonging to 2 classes.\n",
            "Found 2000 images belonging to 2 classes.\n"
          ]
        }
      ]
    },
    {
      "cell_type": "code",
      "source": [
        "model.fit(x = train_set, validation_data = test_set, epochs =10)"
      ],
      "metadata": {
        "colab": {
          "base_uri": "https://localhost:8080/"
        },
        "id": "grRRDWG2QKJx",
        "outputId": "e0882d39-48d8-4291-88a6-ed3ac1f4b7dd"
      },
      "execution_count": null,
      "outputs": [
        {
          "output_type": "stream",
          "name": "stdout",
          "text": [
            "Epoch 1/10\n",
            "250/250 [==============================] - 106s 415ms/step - loss: 0.4232 - accuracy: 0.8076 - val_loss: 0.6998 - val_accuracy: 0.6700\n",
            "Epoch 2/10\n",
            "250/250 [==============================] - 98s 393ms/step - loss: 0.2888 - accuracy: 0.8854 - val_loss: 0.2732 - val_accuracy: 0.8800\n",
            "Epoch 3/10\n",
            "250/250 [==============================] - 98s 392ms/step - loss: 0.2482 - accuracy: 0.9039 - val_loss: 0.4485 - val_accuracy: 0.8395\n",
            "Epoch 4/10\n",
            "250/250 [==============================] - 105s 419ms/step - loss: 0.2215 - accuracy: 0.9144 - val_loss: 0.5842 - val_accuracy: 0.7885\n",
            "Epoch 5/10\n",
            "250/250 [==============================] - 98s 393ms/step - loss: 0.2027 - accuracy: 0.9249 - val_loss: 0.5839 - val_accuracy: 0.7360\n",
            "Epoch 6/10\n",
            "250/250 [==============================] - 98s 392ms/step - loss: 0.1970 - accuracy: 0.9243 - val_loss: 0.6474 - val_accuracy: 0.7550\n",
            "Epoch 7/10\n",
            "250/250 [==============================] - 103s 413ms/step - loss: 0.1879 - accuracy: 0.9287 - val_loss: 0.3589 - val_accuracy: 0.8420\n",
            "Epoch 8/10\n",
            "250/250 [==============================] - 98s 392ms/step - loss: 0.1719 - accuracy: 0.9344 - val_loss: 0.4321 - val_accuracy: 0.8455\n",
            "Epoch 9/10\n",
            "250/250 [==============================] - 105s 419ms/step - loss: 0.1692 - accuracy: 0.9354 - val_loss: 0.3369 - val_accuracy: 0.8715\n",
            "Epoch 10/10\n",
            "250/250 [==============================] - 106s 425ms/step - loss: 0.1635 - accuracy: 0.9395 - val_loss: 0.3082 - val_accuracy: 0.8900\n"
          ]
        },
        {
          "output_type": "execute_result",
          "data": {
            "text/plain": [
              "<keras.callbacks.History at 0x7fd4b6f9cf10>"
            ]
          },
          "metadata": {},
          "execution_count": 19
        }
      ]
    },
    {
      "cell_type": "code",
      "source": [
        "model.predict(test_set[0])"
      ],
      "metadata": {
        "id": "ztGLI7yaZjpG"
      },
      "execution_count": null,
      "outputs": []
    },
    {
      "cell_type": "code",
      "source": [
        "train_set.class_indices"
      ],
      "metadata": {
        "colab": {
          "base_uri": "https://localhost:8080/"
        },
        "id": "lZVGV421XspD",
        "outputId": "b410d6d8-bf9f-4901-be23-155702c286d7"
      },
      "execution_count": null,
      "outputs": [
        {
          "output_type": "execute_result",
          "data": {
            "text/plain": [
              "{'breast_benign': 0, 'breast_malignant': 1}"
            ]
          },
          "metadata": {},
          "execution_count": 21
        }
      ]
    },
    {
      "cell_type": "code",
      "source": [
        "from tensorflow.keras.applications.vgg16 import VGG16\n",
        "from tensorflow.keras.layers import Dense, Conv2D, Dropout, Flatten, MaxPooling2D, Input\n",
        "from tensorflow.keras.models import Model"
      ],
      "metadata": {
        "id": "2gb1GRAFfweM"
      },
      "execution_count": null,
      "outputs": []
    },
    {
      "cell_type": "code",
      "source": [
        "inputs = Input((128,128,3))\n",
        "# convolutional layers\n",
        "conv_1 = Conv2D(32, kernel_size=(3, 3), activation='relu') (inputs)\n",
        "maxp_1 = MaxPooling2D(pool_size=(2, 2)) (conv_1)\n",
        "conv_2 = Conv2D(64, kernel_size=(3, 3), activation='relu') (maxp_1)\n",
        "maxp_2 = MaxPooling2D(pool_size=(2, 2)) (conv_2)\n",
        "conv_3 = Conv2D(128, kernel_size=(3, 3), activation='relu') (maxp_2)\n",
        "maxp_3 = MaxPooling2D(pool_size=(2, 2)) (conv_3)\n",
        "conv_4 = Conv2D(256, kernel_size=(3, 3), activation='relu') (maxp_3)\n",
        "maxp_4 = MaxPooling2D(pool_size=(2, 2)) (conv_4)\n",
        "\n",
        "flatten = Flatten() (maxp_4)\n",
        "\n",
        "# fully connected layers\n",
        "dense_1 = Dense(256, activation='relu') (flatten)\n",
        "\n",
        "\n",
        "\n",
        "dropout_1 = Dropout(0.3) (dense_1)\n",
        "\n",
        "\n",
        "\n",
        "output_1 = Dense(1, activation='sigmoid') (dropout_1)\n",
        "\n",
        "\n",
        "\n",
        "model = Model(inputs=[inputs], outputs=[output_1])\n",
        "\n",
        "model.compile(loss= ['binary_crossentropy'], optimizer='adam', metrics=['accuracy'])"
      ],
      "metadata": {
        "id": "tDbct0lAgIZG"
      },
      "execution_count": null,
      "outputs": []
    },
    {
      "cell_type": "code",
      "source": [
        "model.save('/content/breastcancer1.h5',save_format='h5')"
      ],
      "metadata": {
        "id": "yQKPPuhm8O07"
      },
      "execution_count": null,
      "outputs": []
    },
    {
      "cell_type": "code",
      "source": [
        "model.summary()"
      ],
      "metadata": {
        "id": "ea8uw5788gLo"
      },
      "execution_count": null,
      "outputs": []
    },
    {
      "cell_type": "code",
      "source": [
        "import numpy as np\n",
        "from keras.preprocessing import image\n",
        "test_image = tf.keras.utils.load_img('/content/images/Multi Cancer/Breast Cancer/breast_benign/breast_benign_0039.jpg', target_size = (128,128))\n",
        "test_image = tf.keras.utils.img_to_array(test_image)\n",
        "test_image=test_image/255.0\n",
        "test_image = np.expand_dims(test_image, axis = 0)\n",
        "result = model.predict(test_image)\n",
        "print(result)\n",
        "if result[0][0]> 0.5:\n",
        "  prediction = 'maligant'\n",
        "else:\n",
        "  prediction = 'benign'\n",
        "print(prediction)"
      ],
      "metadata": {
        "colab": {
          "base_uri": "https://localhost:8080/"
        },
        "id": "UrrpQ4l6qTkf",
        "outputId": "4086cac9-a5cc-4861-f0ca-2d18315656a9"
      },
      "execution_count": 65,
      "outputs": [
        {
          "output_type": "stream",
          "name": "stdout",
          "text": [
            "1/1 [==============================] - 0s 21ms/step\n",
            "[[3.8945633e-05]]\n",
            "benign\n"
          ]
        }
      ]
    },
    {
      "cell_type": "code",
      "source": [
        "input=Input([64,64,3])\n",
        "layer1=pre_model(input)\n",
        "flat=Flatten() (layer1)\n",
        "out=Dense(units=128,activation='relu') (flat)\n",
        "out_put=Dense(1,activation='sigmoid') (out)\n",
        "\n"
      ],
      "metadata": {
        "id": "NNFluxubg-KN"
      },
      "execution_count": null,
      "outputs": []
    }
  ]
}