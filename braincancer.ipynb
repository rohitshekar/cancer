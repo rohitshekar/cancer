{
  "nbformat": 4,
  "nbformat_minor": 0,
  "metadata": {
    "colab": {
      "provenance": [],
      "gpuType": "T4",
      "authorship_tag": "ABX9TyPNREOv6geDxnsVO0ntgfBx",
      "include_colab_link": true
    },
    "kernelspec": {
      "name": "python3",
      "display_name": "Python 3"
    },
    "language_info": {
      "name": "python"
    },
    "accelerator": "GPU"
  },
  "cells": [
    {
      "cell_type": "markdown",
      "metadata": {
        "id": "view-in-github",
        "colab_type": "text"
      },
      "source": [
        "<a href=\"https://colab.research.google.com/github/rohitshekar/cancer/blob/main/braincancer.ipynb\" target=\"_parent\"><img src=\"https://colab.research.google.com/assets/colab-badge.svg\" alt=\"Open In Colab\"/></a>"
      ]
    },
    {
      "cell_type": "code",
      "execution_count": 1,
      "metadata": {
        "colab": {
          "base_uri": "https://localhost:8080/"
        },
        "id": "DhTRxQg0NHay",
        "outputId": "4cb6c617-efeb-48fe-cf99-41c4318b8f85"
      },
      "outputs": [
        {
          "output_type": "stream",
          "name": "stdout",
          "text": [
            "Mounted at /content/drive\n"
          ]
        }
      ],
      "source": [
        "from google.colab import drive\n",
        "drive.mount('/content/drive')"
      ]
    },
    {
      "cell_type": "code",
      "source": [
        "import os\n",
        "os.environ['KAGGLE_CONFIG_DIR'] = \"/content/drive/MyDrive/Kaggle\""
      ],
      "metadata": {
        "id": "EORcbhWYNIyx"
      },
      "execution_count": 2,
      "outputs": []
    },
    {
      "cell_type": "code",
      "source": [
        "%mkdir ~/.kaggle"
      ],
      "metadata": {
        "id": "8Ig9pyGlNJBE"
      },
      "execution_count": 3,
      "outputs": []
    },
    {
      "cell_type": "code",
      "source": [
        "!cp /content/drive/MyDrive/kaggle/kaggle.json ~/.kaggle/kaggle.json"
      ],
      "metadata": {
        "id": "8gAHGdT9NJHu"
      },
      "execution_count": 4,
      "outputs": []
    },
    {
      "cell_type": "code",
      "source": [
        "! chmod 600 ~/.kaggle/kaggle.json"
      ],
      "metadata": {
        "id": "ZwhAIvuhNJLA"
      },
      "execution_count": 5,
      "outputs": []
    },
    {
      "cell_type": "code",
      "source": [
        "%cd /content/"
      ],
      "metadata": {
        "colab": {
          "base_uri": "https://localhost:8080/"
        },
        "id": "2WSO1zNSNSCN",
        "outputId": "0eb7beb4-7d45-44c7-9b9a-3a82bffb68cf"
      },
      "execution_count": 6,
      "outputs": [
        {
          "output_type": "stream",
          "name": "stdout",
          "text": [
            "/content\n"
          ]
        }
      ]
    },
    {
      "cell_type": "code",
      "source": [
        "%mkdir images\n",
        "%cd images"
      ],
      "metadata": {
        "colab": {
          "base_uri": "https://localhost:8080/"
        },
        "id": "B4w06xRhNSIo",
        "outputId": "a0268dbe-4146-4d41-d56e-0f24ec4385b4"
      },
      "execution_count": 7,
      "outputs": [
        {
          "output_type": "stream",
          "name": "stdout",
          "text": [
            "/content/images\n"
          ]
        }
      ]
    },
    {
      "cell_type": "code",
      "source": [
        "!kaggle datasets download -d obulisainaren/multi-cancer"
      ],
      "metadata": {
        "colab": {
          "base_uri": "https://localhost:8080/"
        },
        "id": "Ajg9dhMsNrWw",
        "outputId": "9334ba7e-007d-454d-86ad-ddc963a9ee9f"
      },
      "execution_count": 8,
      "outputs": [
        {
          "output_type": "stream",
          "name": "stdout",
          "text": [
            "Downloading multi-cancer.zip to /content/images\n",
            "100% 8.61G/8.62G [01:42<00:00, 70.3MB/s]\n",
            "100% 8.62G/8.62G [01:43<00:00, 89.8MB/s]\n"
          ]
        }
      ]
    },
    {
      "cell_type": "code",
      "source": [
        "!unzip multi-cancer.zip"
      ],
      "metadata": {
        "id": "li5dFsniOd_j"
      },
      "execution_count": null,
      "outputs": []
    },
    {
      "cell_type": "code",
      "source": [
        "import tensorflow as tf\n",
        "from keras.preprocessing.image import ImageDataGenerator"
      ],
      "metadata": {
        "id": "ATwXApG9PH4R"
      },
      "execution_count": 10,
      "outputs": []
    },
    {
      "cell_type": "code",
      "source": [
        "train_datagen = ImageDataGenerator(rescale = 1./255,\n",
        "                                   shear_range = 0.2,\n",
        "                                   zoom_range = 0.2,\n",
        "                                   horizontal_flip = True,validation_split=0.2)\n",
        "test_datagen = ImageDataGenerator(rescale = 1./255,validation_split=0.2)\n"
      ],
      "metadata": {
        "id": "Qwp8Wx8VPTBC"
      },
      "execution_count": 86,
      "outputs": []
    },
    {
      "cell_type": "code",
      "source": [
        "train_set = train_datagen.flow_from_directory('/content/images/Multi Cancer/Brain Cancer',\n",
        "                                                 target_size = (128, 128),\n",
        "                                                 batch_size = 32,\n",
        "                                                 class_mode = 'categorical',subset='training',seed=42,color_mode='grayscale')\n",
        "test_set = test_datagen.flow_from_directory('/content/images/Multi Cancer/Brain Cancer',\n",
        "                                                 target_size = (128, 128),\n",
        "                                                 batch_size = 32,\n",
        "                                                 class_mode = 'categorical',subset='validation',seed=42,color_mode='grayscale')"
      ],
      "metadata": {
        "colab": {
          "base_uri": "https://localhost:8080/"
        },
        "id": "V71pjce5PnZT",
        "outputId": "2256d31a-4c53-4511-ed53-3d6588447d5f"
      },
      "execution_count": 82,
      "outputs": [
        {
          "output_type": "stream",
          "name": "stdout",
          "text": [
            "Found 12000 images belonging to 3 classes.\n",
            "Found 3000 images belonging to 3 classes.\n"
          ]
        }
      ]
    },
    {
      "cell_type": "code",
      "source": [
        "model.fit(x = train_set, validation_data = test_set, epochs =10)"
      ],
      "metadata": {
        "id": "grRRDWG2QKJx",
        "colab": {
          "base_uri": "https://localhost:8080/"
        },
        "outputId": "90c309f8-6eb4-4dad-9752-0a6418c9505a"
      },
      "execution_count": 85,
      "outputs": [
        {
          "output_type": "stream",
          "name": "stdout",
          "text": [
            "Epoch 1/10\n",
            "375/375 [==============================] - 186s 490ms/step - loss: 0.7569 - accuracy: 0.6653 - val_loss: 0.5463 - val_accuracy: 0.7840\n",
            "Epoch 2/10\n",
            "375/375 [==============================] - 83s 222ms/step - loss: 0.5131 - accuracy: 0.7973 - val_loss: 0.4005 - val_accuracy: 0.8407\n",
            "Epoch 3/10\n",
            "375/375 [==============================] - 83s 220ms/step - loss: 0.4120 - accuracy: 0.8403 - val_loss: 0.3345 - val_accuracy: 0.8687\n",
            "Epoch 4/10\n",
            "375/375 [==============================] - 82s 218ms/step - loss: 0.3163 - accuracy: 0.8799 - val_loss: 0.2482 - val_accuracy: 0.9093\n",
            "Epoch 5/10\n",
            "375/375 [==============================] - 78s 209ms/step - loss: 0.2607 - accuracy: 0.9028 - val_loss: 0.2665 - val_accuracy: 0.9010\n",
            "Epoch 6/10\n",
            "375/375 [==============================] - 86s 229ms/step - loss: 0.2086 - accuracy: 0.9226 - val_loss: 0.1993 - val_accuracy: 0.9213\n",
            "Epoch 7/10\n",
            "375/375 [==============================] - 79s 211ms/step - loss: 0.1730 - accuracy: 0.9337 - val_loss: 0.1442 - val_accuracy: 0.9473\n",
            "Epoch 8/10\n",
            "375/375 [==============================] - 87s 232ms/step - loss: 0.1455 - accuracy: 0.9477 - val_loss: 0.1089 - val_accuracy: 0.9583\n",
            "Epoch 9/10\n",
            "375/375 [==============================] - 78s 208ms/step - loss: 0.1232 - accuracy: 0.9576 - val_loss: 0.1473 - val_accuracy: 0.9447\n",
            "Epoch 10/10\n",
            "375/375 [==============================] - 78s 207ms/step - loss: 0.1137 - accuracy: 0.9597 - val_loss: 0.0894 - val_accuracy: 0.9633\n"
          ]
        },
        {
          "output_type": "execute_result",
          "data": {
            "text/plain": [
              "<keras.callbacks.History at 0x7fdbb4744bb0>"
            ]
          },
          "metadata": {},
          "execution_count": 85
        }
      ]
    },
    {
      "cell_type": "code",
      "source": [
        "model.predict(test_set[0])"
      ],
      "metadata": {
        "id": "ztGLI7yaZjpG"
      },
      "execution_count": null,
      "outputs": []
    },
    {
      "cell_type": "code",
      "source": [
        "train_set.class_indices"
      ],
      "metadata": {
        "colab": {
          "base_uri": "https://localhost:8080/"
        },
        "id": "lZVGV421XspD",
        "outputId": "fd323d20-01e1-4173-f7ac-2824c921369d"
      },
      "execution_count": 144,
      "outputs": [
        {
          "output_type": "execute_result",
          "data": {
            "text/plain": [
              "{'brain_glioma': 0, 'brain_menin': 1, 'brain_tumor': 2}"
            ]
          },
          "metadata": {},
          "execution_count": 144
        }
      ]
    },
    {
      "cell_type": "code",
      "source": [
        "from tensorflow.keras.applications.vgg16 import VGG16\n",
        "from tensorflow.keras.layers import Dense, Conv2D, Dropout, Flatten, MaxPooling2D, Input\n",
        "from tensorflow.keras.models import Model"
      ],
      "metadata": {
        "id": "2gb1GRAFfweM"
      },
      "execution_count": 62,
      "outputs": []
    },
    {
      "cell_type": "code",
      "source": [
        "inputs = Input((128,128,1))\n",
        "# convolutional layers\n",
        "conv_1 = Conv2D(32, kernel_size=(3, 3), activation='relu') (inputs)\n",
        "maxp_1 = MaxPooling2D(pool_size=(2, 2)) (conv_1)\n",
        "conv_2 = Conv2D(64, kernel_size=(3, 3), activation='relu') (maxp_1)\n",
        "maxp_2 = MaxPooling2D(pool_size=(2, 2)) (conv_2)\n",
        "conv_3 = Conv2D(128, kernel_size=(3, 3), activation='relu') (maxp_2)\n",
        "maxp_3 = MaxPooling2D(pool_size=(2, 2)) (conv_3)\n",
        "conv_4 = Conv2D(256, kernel_size=(3, 3), activation='relu') (maxp_3)\n",
        "maxp_4 = MaxPooling2D(pool_size=(2, 2)) (conv_4)\n",
        "\n",
        "flatten = Flatten() (maxp_4)\n",
        "\n",
        "# fully connected layers\n",
        "dense_1 = Dense(256, activation='relu') (flatten)\n",
        "\n",
        "\n",
        "\n",
        "dropout_1 = Dropout(0.3) (dense_1)\n",
        "\n",
        "\n",
        "\n",
        "output_1 = Dense(3, activation='softmax') (dropout_1)\n",
        "\n",
        "\n",
        "\n",
        "model = Model(inputs=[inputs], outputs=[output_1])\n",
        "\n",
        "model.compile(loss= ['categorical_crossentropy'], optimizer='adam', metrics=['accuracy'])"
      ],
      "metadata": {
        "id": "tDbct0lAgIZG"
      },
      "execution_count": 84,
      "outputs": []
    },
    {
      "cell_type": "code",
      "source": [
        "model.save('/content/braincancer.h5',save_format='h5')"
      ],
      "metadata": {
        "id": "yQKPPuhm8O07"
      },
      "execution_count": 143,
      "outputs": []
    },
    {
      "cell_type": "code",
      "source": [
        "model.summary()"
      ],
      "metadata": {
        "id": "ea8uw5788gLo"
      },
      "execution_count": null,
      "outputs": []
    },
    {
      "cell_type": "code",
      "source": [
        "%cd /content/images/Multi Cancer/Kidney Cancer/kidney_tumor"
      ],
      "metadata": {
        "colab": {
          "base_uri": "https://localhost:8080/"
        },
        "id": "9MwMc5p4dK3s",
        "outputId": "5481d537-e3ba-4e74-addc-8f139db9e829"
      },
      "execution_count": 41,
      "outputs": [
        {
          "output_type": "stream",
          "name": "stdout",
          "text": [
            "/content/images/Multi Cancer/Kidney Cancer/kidney_tumor\n"
          ]
        }
      ]
    },
    {
      "cell_type": "code",
      "source": [
        "import numpy as np\n",
        "from keras.preprocessing import image\n",
        "results=[]\n",
        "test_image = tf.keras.utils.load_img('/content/images/Multi Cancer/Brain Cancer/brain_glioma/brain_glioma_0062.jpg', target_size = (128,128),grayscale=True)\n",
        "test_image = tf.keras.utils.img_to_array(test_image)\n",
        "test_image=test_image/255.0\n",
        "test_image = np.expand_dims(test_image, axis = 0)\n",
        "result = model.predict(test_image)\n",
        "print(result)\n",
        "print(max(result[0]))\n",
        "\n"
      ],
      "metadata": {
        "colab": {
          "base_uri": "https://localhost:8080/"
        },
        "id": "UrrpQ4l6qTkf",
        "outputId": "0de28d69-800a-4465-d77e-fa853633c02c"
      },
      "execution_count": 142,
      "outputs": [
        {
          "output_type": "stream",
          "name": "stdout",
          "text": [
            "1/1 [==============================] - 0s 22ms/step\n",
            "[[9.9995947e-01 3.5296776e-05 5.2632354e-06]]\n",
            "0.99995947\n"
          ]
        }
      ]
    },
    {
      "cell_type": "code",
      "source": [
        "model=VGG16(include_top=False)\n"
      ],
      "metadata": {
        "colab": {
          "base_uri": "https://localhost:8080/"
        },
        "id": "ByY5gUl4ddzI",
        "outputId": "2e109c28-efea-4077-a3ea-3774a8b0cdec"
      },
      "execution_count": 70,
      "outputs": [
        {
          "output_type": "stream",
          "name": "stdout",
          "text": [
            "Downloading data from https://storage.googleapis.com/tensorflow/keras-applications/vgg16/vgg16_weights_tf_dim_ordering_tf_kernels_notop.h5\n",
            "58889256/58889256 [==============================] - 0s 0us/step\n"
          ]
        }
      ]
    },
    {
      "cell_type": "code",
      "source": [
        "out=Dense(1,activation='sigmoid')"
      ],
      "metadata": {
        "id": "0oV56Wfsh_1D"
      },
      "execution_count": 73,
      "outputs": []
    },
    {
      "cell_type": "code",
      "source": [
        "import os\n",
        "file=os.listdir('/content/images/Multi Cancer/Kidney Cancer/kidney_tumor')[:150]"
      ],
      "metadata": {
        "id": "Gpuydae9cTLi"
      },
      "execution_count": 39,
      "outputs": []
    },
    {
      "cell_type": "code",
      "source": [
        "input=Input([64,64,3])\n",
        "layer1=pre_model(input)\n",
        "flat=Flatten() (layer1)\n",
        "out=Dense(units=128,activation='relu') (flat)\n",
        "out_put=Dense(1,activation='sigmoid') (out)\n",
        "\n"
      ],
      "metadata": {
        "id": "NNFluxubg-KN"
      },
      "execution_count": null,
      "outputs": []
    }
  ]
}